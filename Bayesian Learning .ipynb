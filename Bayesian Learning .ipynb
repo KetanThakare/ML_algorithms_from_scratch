{
 "cells": [
  {
   "cell_type": "markdown",
   "metadata": {},
   "source": [
    "Consider the data set below, for spam detection. \n",
    "\n",
    "We will use the Naive Bayes Classifier to learn from this data and predict new sentences. \n",
    "\n",
    "> Sentence | Spam\n",
    "> --- | ---  \n",
    "> congrats you are selected | N \n",
    "> congrats you won lottery | Y\n",
    "> travel for free | Y\n",
    "> selected for credit cards | Y\n",
    "> very good | N\n",
    "> good night | N\n",
    "> lottery | Y \n",
    "\n",
    "In this context, each word can be treated as an attribute, and their values will be 0 or 1 depending on the absence or existence of the word in the sentence. \n",
    "\n",
    "For example, \"congrats\" will be attribute $a_0$, \"you\" will be attribute $a_1$, etc. \n",
    "\n",
    "> word | attribute | dictionary index (see python code below)\n",
    "> --- | --- | ---\n",
    "> congrats | $a_0$ | 0\n",
    "> you | $a_1$ | 1\n",
    "> are | $a_2$ | 2\n",
    "> selected | $a_3$ | 3\n",
    "> won | $a_4$ | 4\n",
    "> lottery | $a_5$ | 5\n",
    "> travel | $a_6$ | 6\n",
    "> for | $a_7$ | 7\n",
    "> free | $a_8$ | 8\n",
    "> credit | $a_9$ | 9\n",
    "> cards | $a_{10}$ | 10\n",
    "> very | $a_{11}$ | 11\n",
    "> good | $a_{12}$ | 12\n",
    "> night | $a_{13}$ | 13\n",
    "\n",
    "\n",
    "\n",
    "\n",
    "So, the sentence \"you won free travel\" would be \n",
    "> $\\small (a_0=0, a_1=1, a_2=0, a_3=0, a_4=1, a_5=0, a_6=1, a_7=0, a_8=1, a_9=0, a_{10}=0, a_{11}=0, a_{12}=0, a_{13}=0)$\n",
    "\n",
    "or simply\n",
    "> $\\small (0,1,0,0,1,0,1,0,1,0,0,0,0,0)$\n",
    "\n",
    "So, the probability that \"you won free travel\" is a spam can be written as:\n",
    "> $\\small P(Spam=Yes| a_0=0, a_1=1, a_2=0, a_3=0, a_4=1, a_5=0, a_6=1, a_7=0, a_8=1, a_9=0, a_{10}=0, a_{11}=0, a_{12}=0, a_{13}=0)$\n",
    "\n",
    "or as\n",
    "\n",
    "> $\\small P(Yes|0,1,0,0,1,0,1,0,1,0,0,0,0,0)$.\n",
    "\n",
    "Note that word ordering does not matter, and multiple occurances of the same word is simply represented as 1. \n"
   ]
  },
  {
   "cell_type": "code",
   "execution_count": 1,
   "metadata": {},
   "outputs": [
    {
     "name": "stdout",
     "output_type": "stream",
     "text": [
      "Score (accuracy: 1.0 = 100%)= 1.0\n"
     ]
    }
   ],
   "source": [
    "import numpy as np\n",
    "from sklearn.naive_bayes import MultinomialNB\n",
    "\n",
    "#---------------------------------------------------------------------\n",
    "# dictionary, to look up words from the data vector -- case sensitive! \n",
    "#---------------------------------------------------------------------\n",
    "dictionary = np.array([\"congrats\",\"you\",\"are\",\"selected\",\"won\",\"lottery\",\"travel\",\"for\",\"free\",\"credit\",\"cards\",\"very\",\"good\",\"night\"])\n",
    "\n",
    "#---------------------------------------\n",
    "# vec2word: convert data vector to words\n",
    "#---------------------------------------\n",
    "def vec2word(vec):\n",
    "  \"\"\"\n",
    "  arguments: vec = np.array([0,1,...])\n",
    "  returns: string of sentence corresponsing to the vector (word may not be ordered properly)\n",
    "  \"\"\"\n",
    "  dictionary = np.array([\"congrats\",\"you\",\"are\",\"selected\",\"won\",\"lottery\",\"travel\",\"for\",\"free\",\"credit\",\"cards\",\"very\",\"good\",\"night\"])\n",
    "  dict = {1:\"congrats\",2:\"you\",3:\"are\",4:\"selected\",5:\"won\",6:\"lottery\",7:\"travel\",8:\"for\",9:\"free\",10:\"credit\",11:\"cards\",12:\"very\",13:\"good\",14:\"night\" }\n",
    "  new_arr = np.array([[1,2,3,4,5,6,7,8,9,10,11,12,13,14]])\n",
    "\n",
    "  n_a = np.multiply(new_arr,vec)\n",
    "  n_a = np.delete(n_a, np.where(n_a == 0))\n",
    "  n_a = list(n_a)\n",
    "  a = []\n",
    "  for i in n_a: \n",
    "    a.append(dict[i])\n",
    "  print(a)\n",
    "\n",
    "\n",
    "#--------------------------------\n",
    "# spam data : enter your data here (SOL)\n",
    "#--------------------------------\n",
    "X = np.array([\n",
    " [1,1,1,1,0,0,0,0,0,0,0,0,0,0], [1,1,0,0,1,1,0,0,0,0,0,0,0,0],[0,0,0,0,0,0,1,1,1,0,0,0,0,0],[0,0,0,1,0,0,0,1,0,1,1,0,0,0],[0,0,0,0,0,0,0,0,0,0,0,1,1,0],[0,0,0,0,0,0,0,0,0,0,0,0,1,1],[0,0,0,0,0,1,0,0,0,0,0,0,0,0] \n",
    "])\n",
    "\n",
    "y = np.array([0,1,1,1,0,0,1])\n",
    "\n",
    "clf = MultinomialNB()\n",
    "clf.fit(X, y)\n",
    "\n",
    "print(\"Score (accuracy: 1.0 = 100%)= \",end=\"\")\n",
    "print(clf.score(X,y))\n"
   ]
  },
  {
   "cell_type": "markdown",
   "metadata": {},
   "source": [
    "Providing 3 test sentences that are classified as \"Spam\" (output = 1). \n",
    "\n",
    "- These cannot be from the provided data set above.\n",
    "- Each sentence must be at least 4 words long."
   ]
  },
  {
   "cell_type": "code",
   "execution_count": 2,
   "metadata": {},
   "outputs": [
    {
     "name": "stdout",
     "output_type": "stream",
     "text": [
      "\n",
      "This is test sentence 1: You won free travel cards\n",
      "['you', 'won', 'travel', 'free', 'cards', 'good']\n",
      "None\n",
      "The prediction is\n",
      "[1]\n",
      "\n",
      "This is test sentence 2: You are selected for lotttery\n",
      "['you', 'are', 'selected', 'lottery', 'for']\n",
      "None\n",
      "The prediction is\n",
      "[1]\n",
      "\n",
      "This is test sentence 3: You won good credit cards\n",
      "['you', 'won', 'credit', 'cards', 'good']\n",
      "None\n",
      "The prediction is\n",
      "[1]\n"
     ]
    }
   ],
   "source": [
    "print(\"\\nThis is test sentence 1: You won free travel cards\")\n",
    "test1 = np.array([[0,1,0,0,1,0,1,0,1,0,1,0,1,0]])\n",
    "print(vec2word(test1)) #verifying that sentence is correct \n",
    "print(\"The prediction is\")\n",
    "print(clf.predict(test1))\n",
    "\n",
    "print(\"\\nThis is test sentence 2: You are selected for lotttery\")\n",
    "test2 = np.array([[0,1,1,1,0,1,0,1,0,0,0,0,0,0]])\n",
    "print(vec2word(test2)) #verifying that sentence is correct \n",
    "print(\"The prediction is\")\n",
    "print(clf.predict(test2))\n",
    "\n",
    "print(\"\\nThis is test sentence 3: You won good credit cards\")\n",
    "test3 = np.array([[0,1,0,0,1,0,0,0,0,1,1,0,1,0]])\n",
    "print(vec2word(test3)) #verifying that sentence is correct \n",
    "print(\"The prediction is\")\n",
    "print(clf.predict(test3))\n"
   ]
  },
  {
   "cell_type": "markdown",
   "metadata": {},
   "source": [
    "Providing 3 test sentences that are classified as \"Not spam\" (output = 0). \n",
    "\n",
    "- These cannot be from the provided data set above.\n",
    "- Each sentence must be at least 4 words long."
   ]
  },
  {
   "cell_type": "code",
   "execution_count": 3,
   "metadata": {},
   "outputs": [
    {
     "name": "stdout",
     "output_type": "stream",
     "text": [
      "\n",
      "This is test sentence 1: You are selected for night\n",
      "['you', 'are', 'selected', 'for', 'night']\n",
      "None\n",
      "The prediction is\n",
      "[0]\n",
      "\n",
      "This is test sentence 2: You are very good\n",
      "['you', 'are', 'very', 'good']\n",
      "None\n",
      "The prediction is\n",
      "[0]\n",
      "\n",
      "This is test sentence 3: Good for travel night\n",
      "['travel', 'for', 'good', 'night']\n",
      "None\n",
      "The prediction is\n",
      "[0]\n"
     ]
    }
   ],
   "source": [
    "print(\"\\nThis is test sentence 1: You are selected for night\")\n",
    "test1 = np.array([[0,1,1,1,0,0,0,1,0,0,0,0,0,1]])\n",
    "print(vec2word(test1)) #verifying that sentence is correct \n",
    "print(\"The prediction is\")\n",
    "print(clf.predict(test1))\n",
    "\n",
    "print(\"\\nThis is test sentence 2: You are very good\")\n",
    "test2 = np.array([[0,1,1,0,0,0,0,0,0,0,0,1,1,0]])\n",
    "print(vec2word(test2)) #verifying that sentence is correct \n",
    "print(\"The prediction is\")\n",
    "print(clf.predict(test2))\n",
    "\n",
    "print(\"\\nThis is test sentence 3: Good for travel night\")\n",
    "test3 = np.array([[0,0,0,0,0,0,1,1,0,0,0,0,1,1]])\n",
    "print(vec2word(test3)) #verifying that sentence is correct \n",
    "print(\"The prediction is\")\n",
    "print(clf.predict(test3))"
   ]
  }
 ],
 "metadata": {
  "kernelspec": {
   "display_name": "Python 3",
   "language": "python",
   "name": "python3"
  },
  "language_info": {
   "codemirror_mode": {
    "name": "ipython",
    "version": 3
   },
   "file_extension": ".py",
   "mimetype": "text/x-python",
   "name": "python",
   "nbconvert_exporter": "python",
   "pygments_lexer": "ipython3",
   "version": "3.8.5"
  }
 },
 "nbformat": 4,
 "nbformat_minor": 4
}
